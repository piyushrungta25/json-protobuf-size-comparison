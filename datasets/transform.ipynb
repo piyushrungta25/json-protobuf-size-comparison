{
 "cells": [
  {
   "cell_type": "code",
   "execution_count": 2,
   "metadata": {},
   "outputs": [],
   "source": [
    "import json\n",
    "import csv"
   ]
  },
  {
   "cell_type": "code",
   "execution_count": 10,
   "metadata": {},
   "outputs": [],
   "source": [
    "def toPascal(s):\n",
    "    return s.title().replace(\"_\", \"\")"
   ]
  },
  {
   "cell_type": "code",
   "execution_count": 19,
   "metadata": {},
   "outputs": [],
   "source": [
    "def toPascalRec(o):\n",
    "    d = {}\n",
    "    for f in o:\n",
    "        n = o[f]\n",
    "        if isinstance(o[f], dict):\n",
    "            n = toPascalRec(o[f])\n",
    "        if isinstance(o[f], list):\n",
    "            n = []\n",
    "            for li in o[f]:\n",
    "                n.append(toPascalRec(li))\n",
    "        \n",
    "        d[toPascal(f)] = n\n",
    "    \n",
    "    return d\n",
    "\n",
    "\n",
    "with open(\"linux_commit.json\", \"r\") as f:\n",
    "    commits = json.load(f)\n",
    "\n",
    "with open(\"linux_commit_pascal.json\", \"w\") as f:\n",
    "    lst = []\n",
    "    for c in commits:\n",
    "        re = toPascalRec(c)\n",
    "        del re[\"Parents\"]\n",
    "        del re[\"Commit\"][\"Verification\"][\"Signature\"]\n",
    "        del re[\"Commit\"][\"Verification\"][\"Payload\"]\n",
    "        lst.append(re)\n",
    "    json.dump(lst, f)\n"
   ]
  },
  {
   "cell_type": "code",
   "execution_count": 10,
   "metadata": {},
   "outputs": [],
   "source": [
    "lst = []\n",
    "\n",
    "with open('aapl.csv', mode='r') as csv_file:\n",
    "    csv_reader = csv.DictReader(csv_file)\n",
    "    line_count = 0\n",
    "    headers = list(csv_reader.__next__())\n",
    "    for row in csv_reader:\n",
    "\n",
    "        for header in headers[1:]:\n",
    "            row[header] = float(row[header])\n",
    "        lst.append(row)\n",
    "\n",
    "f = open(\"aapl.json\", \"w\")\n",
    "\n",
    "json.dump(lst, f)"
   ]
  },
  {
   "cell_type": "code",
   "execution_count": null,
   "metadata": {},
   "outputs": [],
   "source": []
  }
 ],
 "metadata": {
  "kernelspec": {
   "display_name": "Python 3",
   "language": "python",
   "name": "python3"
  },
  "language_info": {
   "codemirror_mode": {
    "name": "ipython",
    "version": 3
   },
   "file_extension": ".py",
   "mimetype": "text/x-python",
   "name": "python",
   "nbconvert_exporter": "python",
   "pygments_lexer": "ipython3",
   "version": "3.10.12"
  }
 },
 "nbformat": 4,
 "nbformat_minor": 2
}
